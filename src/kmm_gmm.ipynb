{
 "cells": [
  {
   "cell_type": "code",
   "execution_count": 4,
   "metadata": {},
   "outputs": [],
   "source": [
    "# This Python 3 environment comes with many helpful analytics libraries installed\n",
    "# It is defined by the kaggle/python Docker image: https://github.com/kaggle/docker-python\n",
    "# For example, here's several helpful packages to load\n",
    "\n",
    "import numpy as np # linear algebra\n",
    "import pandas as pd # data processing, CSV file I/O (e.g. pd.read_csv)\n",
    "\n",
    "# Input data files are available in the read-only \"../input/\" directory\n",
    "# For example, running this (by clicking run or pressing Shift+Enter) will list all files under the input directory\n",
    "\n",
    "import os\n",
    "for dirname, _, filenames in os.walk('/kaggle/input'):\n",
    "    for filename in filenames:\n",
    "        print(os.path.join(dirname, filename))\n",
    "\n",
    "# You can write up to 20GB to the current directory (/kaggle/working/) that gets preserved as output when you create a version using \"Save & Run All\" \n",
    "# You can also write temporary files to /kaggle/temp/, but they won't be saved outside of the current session"
   ]
  },
  {
   "cell_type": "code",
   "execution_count": 1,
   "metadata": {},
   "outputs": [
    {
     "name": "stdout",
     "output_type": "stream",
     "text": [
      "Finished loading and splitting data\n"
     ]
    }
   ],
   "source": [
    "import numpy as np\n",
    "import pandas as pd\n",
    "from sklearn.mixture import GaussianMixture\n",
    "from sklearn.cluster import KMeans\n",
    "from sklearn.neighbors import KNeighborsClassifier\n",
    "\n",
    "# Read dataset\n",
    "#path = '/kaggle/input/muse-the-musical-sentiment-dataset/muse_v3.csv'\n",
    "path = '../muse_v3.csv'\n",
    "data = pd.read_csv(path).astype({'valence_tags': np.float32, 'arousal_tags':np.float32, 'dominance_tags':np.float32})\n",
    "train_set = data[0:60000]\n",
    "test_set = data[60000:]\n",
    "training_points = 20000\n",
    "testing_points = 500    # 100 gave an accuracy of approx 85%\n",
    "training = train_set.sample(training_points).to_numpy()\n",
    "training_features = training[:, 5:8]\n",
    "training_targets = training[:, 3]\n",
    "testing = test_set.sample(testing_points).to_numpy()\n",
    "testing_features = testing[:, 5:8]\n",
    "testing_targets = testing[:, 3]\n",
    "\n",
    "components = 276    # Number of unique genre/seed values in dataset\n",
    "\n",
    "print('Finished loading and splitting data')"
   ]
  },
  {
   "cell_type": "code",
   "execution_count": 9,
   "metadata": {},
   "outputs": [
    {
     "name": "stdout",
     "output_type": "stream",
     "text": [
      "GMM: 0.514\n"
     ]
    }
   ],
   "source": [
    "gmm_model = GaussianMixture(n_components=components).fit(training_features)\n",
    "gmm_predictions = gmm_model.predict(testing_features)\n",
    "\n",
    "gmm_mean_to_genre = {}\n",
    "for i in range(components):\n",
    "    gmm_group = testing[gmm_predictions == i]\n",
    "    if len(gmm_group) != 0:\n",
    "        group_targets = gmm_group[:, 3]\n",
    "        values, counts = np.unique(group_targets, return_counts=True)\n",
    "        group_val = values[np.argmax(counts)]\n",
    "        gmm_mean_to_genre[i] = group_val\n",
    "\n",
    "gmm_correct = 0\n",
    "for i in range(testing_points):\n",
    "    if gmm_mean_to_genre[gmm_predictions[i]] in testing_targets[i]:\n",
    "        gmm_correct += 1\n",
    "gmm_accuracy = gmm_correct / testing_points   \n",
    "print('GMM: ' + str(gmm_accuracy))"
   ]
  },
  {
   "cell_type": "code",
   "execution_count": 10,
   "metadata": {},
   "outputs": [
    {
     "name": "stdout",
     "output_type": "stream",
     "text": [
      "KMM: 0.612\n"
     ]
    }
   ],
   "source": [
    "kmm_model = KMeans(n_clusters=components).fit(training_features)\n",
    "kmm_predictions = kmm_model.predict(testing_features)\n",
    "\n",
    "kmm_mean_to_genre = {}\n",
    "for i in range(components):\n",
    "    kmm_group = testing[kmm_predictions == i]\n",
    "    if len(kmm_group) != 0:\n",
    "        group_targets = kmm_group[:, 3]\n",
    "        values, counts = np.unique(group_targets, return_counts=True)\n",
    "        group_val = values[np.argmax(counts)]\n",
    "        kmm_mean_to_genre[i] = group_val\n",
    "        \n",
    "kmm_correct = 0\n",
    "for i in range(testing_points):\n",
    "    if kmm_mean_to_genre[kmm_predictions[i]] in testing_targets[i]:\n",
    "        kmm_correct += 1\n",
    "kmm_accuracy = kmm_correct / testing_points\n",
    "print('KMM: ' + str(kmm_accuracy))"
   ]
  },
  {
   "cell_type": "code",
   "execution_count": null,
   "metadata": {},
   "outputs": [],
   "source": [
    "### Not properly implemented\n",
    "\n",
    "temp = data.to_numpy()[:, 3]\n",
    "flat_temp = np.array([], dtype=str)\n",
    "for i in range(len(temp)):\n",
    "    seed = temp[i][1:-1]\n",
    "    flat_temp = np.append(flat_temp, np.array(seed.split(', ')))\n",
    "unique_labels = np.unique(flat_temp)\n",
    "print(len(unique_labels))\n",
    "\n",
    "knn_training_targets = np.empty(training_targets.shape[0])\n",
    "for i in range(knn_training_targets.shape[0]):\n",
    "    labels = training_targets[i][1:-1].split(', ')\n",
    "    for label in labels:\n",
    "        knn_training_targets[i] += np.where(unique_labels == label)\n",
    "    knn_training_targets[i] /= len(labels)\n",
    "    knn_training_targets[i] = round(knn_training_targets[i])\n",
    "print(knn_training_targets)\n",
    "\n",
    "        \n",
    "# knn_mean_to_genre = {}\n",
    "# for i in range(components):\n",
    "#     knn_group = testing[knn_predictions == i]\n",
    "#     if len(knn_group) != 0:\n",
    "#         group_targets = knn_group[:, 3]\n",
    "#         values, counts = np.unique(group_targets, return_counts=True)\n",
    "#         group_val = values[np.argmax(counts)]\n",
    "#         knn_mean_to_genre[i] = group_val\n",
    "        \n",
    "#print(mean_to_genre.values())\n",
    "\n",
    "knn_model = KNeighborsClassifier(n_neighbors=1, weights='distance').fit(training_features, knn_training_targets)\n",
    "knn_predictions = knn_model.predict(testing_features)\n",
    "\n",
    "knn_correct = 0\n",
    "for i in range(testing_points):\n",
    "    if unique_labels[round(knn_predictions[i])] in testing_targets[i]:\n",
    "        knn_correct += 1\n",
    "                \n",
    "# for i in range(testing_points):\n",
    "#     for genre in knn_predictions[i][1:-1].split(', '):\n",
    "#         if genre in testing_targets[i]:\n",
    "#             knn_correct += 1\n",
    "#             break\n",
    "\n",
    "knn_accuracy = knn_correct / testing_points\n",
    "print('KNN: ' + str(knn_accuracy))"
   ]
  }
 ],
 "metadata": {
  "interpreter": {
   "hash": "32475fc0abd794ae54b7d3eb2d9961c4b7aab86d8235459148b4da1934c6daeb"
  },
  "kernelspec": {
   "display_name": "Python 3.8.2 32-bit",
   "language": "python",
   "name": "python3"
  },
  "language_info": {
   "codemirror_mode": {
    "name": "ipython",
    "version": 3
   },
   "file_extension": ".py",
   "mimetype": "text/x-python",
   "name": "python",
   "nbconvert_exporter": "python",
   "pygments_lexer": "ipython3",
   "version": "3.10.0"
  },
  "orig_nbformat": 4
 },
 "nbformat": 4,
 "nbformat_minor": 2
}
